{
 "cells": [
  {
   "cell_type": "markdown",
   "id": "edfe93f2-8279-4d16-8e36-1624d1e3438a",
   "metadata": {},
   "source": [
    "# **Hipotez Testi Nedir?**"
   ]
  },
  {
   "cell_type": "markdown",
   "id": "caa2fc55-e33e-4445-91e6-c171a8ec596e",
   "metadata": {},
   "source": [
    "#### Bir inanışı(bir savı, bir tahmini vs) test etmek için kullanılan istatistiksel bir tekniktir"
   ]
  },
  {
   "cell_type": "markdown",
   "id": "af6d263b-df25-4584-9da0-dbfab88f6f9a",
   "metadata": {},
   "source": [
    "### **Hipotezler ve Türleri**"
   ]
  },
  {
   "cell_type": "markdown",
   "id": "25917dcb-e6d7-43b2-a555-0be16a000023",
   "metadata": {},
   "source": [
    "#### H0:mü=50  H0:mü<=50  H0:mü>=50\n",
    "#### H1:mü!=50  H1:mü>50  H1:mü<50"
   ]
  },
  {
   "cell_type": "markdown",
   "id": "b084115e-806b-474a-b290-eea23d7b7cb9",
   "metadata": {},
   "source": [
    "#### -Gerçek->h0 doğru, hipotez testi sonucu verilen karar h0 reddedilmedi-> doğru karar (1-a)=>Güven Düzeyi -ho reddedildi->1.tip hata a\n",
    "#### -Gerçek->h0 yanlış, hipotez testi sonucu verilen karar h0 reddedilmedi-> 2.tip hata b -ho reddedildi-> doğru karar (1-b)=>Testin gücü"
   ]
  }
 ],
 "metadata": {
  "kernelspec": {
   "display_name": "Python 3 (ipykernel)",
   "language": "python",
   "name": "python3"
  },
  "language_info": {
   "codemirror_mode": {
    "name": "ipython",
    "version": 3
   },
   "file_extension": ".py",
   "mimetype": "text/x-python",
   "name": "python",
   "nbconvert_exporter": "python",
   "pygments_lexer": "ipython3",
   "version": "3.9.13"
  }
 },
 "nbformat": 4,
 "nbformat_minor": 5
}
