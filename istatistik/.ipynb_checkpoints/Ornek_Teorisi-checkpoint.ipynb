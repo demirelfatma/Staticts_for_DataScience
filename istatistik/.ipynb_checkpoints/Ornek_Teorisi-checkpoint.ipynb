{
 "cells": [
  {
   "cell_type": "code",
   "execution_count": 1,
   "id": "6eb0eb63-c9a2-4649-94ba-5724fc2cb910",
   "metadata": {},
   "outputs": [],
   "source": [
    "### İstatistik veri biliminin \"bilim\" makine öğrenmesinin \"öğrenme\" kısıdır."
   ]
  },
  {
   "cell_type": "code",
   "execution_count": 2,
   "id": "541c829e-5bd6-4c7a-afa2-d859c620135e",
   "metadata": {},
   "outputs": [],
   "source": [
    "### örneklem dağılımı: popülasyon içinden birçok örnek çekip onların dağılımıyla ilgilenmemizdir."
   ]
  },
  {
   "cell_type": "markdown",
   "id": "7fb2daa7-5e0d-49dd-890c-37bfdb5f1ff0",
   "metadata": {},
   "source": [
    "# **Örnek Teorisi**"
   ]
  },
  {
   "cell_type": "code",
   "execution_count": 8,
   "id": "db3974b5-3408-4194-8244-dad10c6b526b",
   "metadata": {},
   "outputs": [],
   "source": [
    "import numpy as np"
   ]
  },
  {
   "cell_type": "code",
   "execution_count": 10,
   "id": "8c690ed9-ee95-478a-87d4-3a17bed979ad",
   "metadata": {},
   "outputs": [],
   "source": [
    "populasyon = np.random.randint(0,80,10000)"
   ]
  },
  {
   "cell_type": "code",
   "execution_count": 11,
   "id": "1d44d694-a83c-4722-af12-f026093b1dbd",
   "metadata": {},
   "outputs": [
    {
     "data": {
      "text/plain": [
       "array([18, 26, 61, 69,  6, 31, 48, 23, 64, 49])"
      ]
     },
     "execution_count": 11,
     "metadata": {},
     "output_type": "execute_result"
    }
   ],
   "source": [
    "populasyon[0:10]"
   ]
  },
  {
   "cell_type": "code",
   "execution_count": 13,
   "id": "847cce4c-fcd4-442b-aa96-bbbb004fa45c",
   "metadata": {},
   "outputs": [],
   "source": [
    "#orneklem cekimi\n",
    "np.random.seed(115)\n",
    "orneklem = np.random.choice(a = populasyon, size = 100)"
   ]
  },
  {
   "cell_type": "code",
   "execution_count": 14,
   "id": "e4d50e2c-88a2-4df0-8093-88d49a857b31",
   "metadata": {},
   "outputs": [
    {
     "data": {
      "text/plain": [
       "39.55"
      ]
     },
     "execution_count": 14,
     "metadata": {},
     "output_type": "execute_result"
    }
   ],
   "source": [
    "orneklem.mean()"
   ]
  },
  {
   "cell_type": "code",
   "execution_count": 15,
   "id": "90c8b602-d962-465d-a65e-2af491424da2",
   "metadata": {},
   "outputs": [
    {
     "data": {
      "text/plain": [
       "39.4761"
      ]
     },
     "execution_count": 15,
     "metadata": {},
     "output_type": "execute_result"
    }
   ],
   "source": [
    "populasyon.mean()"
   ]
  },
  {
   "cell_type": "code",
   "execution_count": 16,
   "id": "cf293286-c859-4ffd-883b-7ad4802f3b32",
   "metadata": {},
   "outputs": [],
   "source": [
    "#orneklem dağılımı"
   ]
  },
  {
   "cell_type": "code",
   "execution_count": 17,
   "id": "593e1204-72e7-4bea-bf11-9c0bd2cf935d",
   "metadata": {},
   "outputs": [],
   "source": [
    "np.random.seed(10)\n",
    "orneklem1 = np.random.choice(a=populasyon,size=100)\n",
    "orneklem2 = np.random.choice(a=populasyon,size=100)\n",
    "orneklem3 = np.random.choice(a=populasyon,size=100)\n",
    "orneklem4 = np.random.choice(a=populasyon,size=100)\n",
    "orneklem5 = np.random.choice(a=populasyon,size=100)\n",
    "orneklem6 = np.random.choice(a=populasyon,size=100)\n",
    "orneklem7 = np.random.choice(a=populasyon,size=100)\n",
    "orneklem8 = np.random.choice(a=populasyon,size=100)\n",
    "orneklem9 = np.random.choice(a=populasyon,size=100)\n",
    "orneklem10 = np.random.choice(a=populasyon,size=100)"
   ]
  },
  {
   "cell_type": "code",
   "execution_count": 18,
   "id": "ee3941da-34b2-4644-995d-fb1449e22ff1",
   "metadata": {},
   "outputs": [
    {
     "data": {
      "text/plain": [
       "40.190999999999995"
      ]
     },
     "execution_count": 18,
     "metadata": {},
     "output_type": "execute_result"
    }
   ],
   "source": [
    "(orneklem1.mean()+orneklem2.mean()+orneklem3.mean()+orneklem4.mean()+orneklem5.mean()+orneklem6.mean()+orneklem7.mean()+orneklem8.mean()+orneklem9.mean()+orneklem10.mean())/10"
   ]
  },
  {
   "cell_type": "code",
   "execution_count": 19,
   "id": "ed8f06c9-a999-4adf-98f9-b5ee7072be6d",
   "metadata": {},
   "outputs": [
    {
     "data": {
      "text/plain": [
       "42.55"
      ]
     },
     "execution_count": 19,
     "metadata": {},
     "output_type": "execute_result"
    }
   ],
   "source": [
    "orneklem1.mean()"
   ]
  }
 ],
 "metadata": {
  "kernelspec": {
   "display_name": "Python 3 (ipykernel)",
   "language": "python",
   "name": "python3"
  },
  "language_info": {
   "codemirror_mode": {
    "name": "ipython",
    "version": 3
   },
   "file_extension": ".py",
   "mimetype": "text/x-python",
   "name": "python",
   "nbconvert_exporter": "python",
   "pygments_lexer": "ipython3",
   "version": "3.9.13"
  }
 },
 "nbformat": 4,
 "nbformat_minor": 5
}
