{
 "cells": [
  {
   "cell_type": "markdown",
   "id": "1f242fb5-2703-4c49-b581-ae39ba1ecdfd",
   "metadata": {},
   "source": [
    "# **İş Uygulaması: Satış Olasılıklarının Hesaplanması**"
   ]
  },
  {
   "cell_type": "markdown",
   "id": "09584991-f134-44d7-9100-128fff0cedee",
   "metadata": {},
   "source": [
    "#### Problem: Bir yatırım/toplantı öncesinde gelecek ay ile ilgili satışların belirli değerlerde gerçekleşmesi olasılıkları belirlenmek isteniyor.\n",
    "#### Detaylar: Dağılımın normal olduğu biliniyor. Aylık ortalama satış sayısı 80K, standart sapması 5K. 90K'dan fazla satış yapma olasılığı nedir?"
   ]
  },
  {
   "cell_type": "markdown",
   "id": "4e87ea6e-8683-4572-9bb4-48a6dcb81dd5",
   "metadata": {},
   "source": [
    "#### (1/(kök(2.pi.(lambda^2)))).e^(-(x-mü)^2)/2.(lambda^2)\n",
    "#### mü ortalama ya da dağılımın beklenen değeri\n",
    "#### lambda standart sapma\n",
    "#### lambda^2 varyans"
   ]
  },
  {
   "cell_type": "code",
   "execution_count": 1,
   "id": "0d3bd665-9ebf-4402-9291-cc8abeea8aa3",
   "metadata": {},
   "outputs": [],
   "source": [
    "from scipy.stats import norm"
   ]
  },
  {
   "cell_type": "code",
   "execution_count": 2,
   "id": "4f6f3238-9f8b-4e3e-b8eb-5788d2d81334",
   "metadata": {},
   "outputs": [
    {
     "data": {
      "text/plain": [
       "0.02275013194817921"
      ]
     },
     "execution_count": 2,
     "metadata": {},
     "output_type": "execute_result"
    }
   ],
   "source": [
    "#90'dan fazla olması\n",
    "1-norm.cdf(90,80,5)"
   ]
  },
  {
   "cell_type": "code",
   "execution_count": 3,
   "id": "852a90d9-d785-466a-8446-017945dc806a",
   "metadata": {},
   "outputs": [
    {
     "data": {
      "text/plain": [
       "0.9772498680518208"
      ]
     },
     "execution_count": 3,
     "metadata": {},
     "output_type": "execute_result"
    }
   ],
   "source": [
    "#70'den fazla olması\n",
    "1-norm.cdf(70,80,5)"
   ]
  },
  {
   "cell_type": "code",
   "execution_count": 4,
   "id": "1d4bac6c-7449-4624-ae90-8fa8b509b29b",
   "metadata": {},
   "outputs": [
    {
     "data": {
      "text/plain": [
       "0.9192433407662289"
      ]
     },
     "execution_count": 4,
     "metadata": {},
     "output_type": "execute_result"
    }
   ],
   "source": [
    "#73'den az olması\n",
    "1-norm.cdf(73,80,5)"
   ]
  },
  {
   "cell_type": "code",
   "execution_count": 5,
   "id": "f65f7d2d-ef51-4b30-9a7d-4669a0740783",
   "metadata": {},
   "outputs": [],
   "source": [
    "#85 ile 90 arasında olması"
   ]
  },
  {
   "cell_type": "code",
   "execution_count": 6,
   "id": "137cef6b-e8af-43de-92af-298735988c77",
   "metadata": {},
   "outputs": [
    {
     "data": {
      "text/plain": [
       "0.13590512198327787"
      ]
     },
     "execution_count": 6,
     "metadata": {},
     "output_type": "execute_result"
    }
   ],
   "source": [
    "norm.cdf(90,80,5)-norm.cdf(85,80,5)"
   ]
  }
 ],
 "metadata": {
  "kernelspec": {
   "display_name": "Python 3 (ipykernel)",
   "language": "python",
   "name": "python3"
  },
  "language_info": {
   "codemirror_mode": {
    "name": "ipython",
    "version": 3
   },
   "file_extension": ".py",
   "mimetype": "text/x-python",
   "name": "python",
   "nbconvert_exporter": "python",
   "pygments_lexer": "ipython3",
   "version": "3.9.13"
  }
 },
 "nbformat": 4,
 "nbformat_minor": 5
}
