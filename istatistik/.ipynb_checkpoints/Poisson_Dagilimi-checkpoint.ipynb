{
 "cells": [
  {
   "cell_type": "markdown",
   "id": "2f13f0e7-7573-400d-8105-bca12199b0ff",
   "metadata": {},
   "source": [
    "# **Poisson Dağılımı**"
   ]
  },
  {
   "cell_type": "markdown",
   "id": "61fcdc5c-c20a-4f7d-b14d-7b081cff57e0",
   "metadata": {},
   "source": [
    "### Belirli bir zaman aralığında belirli bir alanda nadiren rastlanan olayların olasılıklarını hesaplamak için kullanılır."
   ]
  },
  {
   "cell_type": "markdown",
   "id": "6e061bb9-6786-456e-ba52-27b2d37f505c",
   "metadata": {},
   "source": [
    "### f(x,lambda)=((lambda^x)(e^-lambda))/x!, x=0,1,2,...,n  \n",
    "### E(X)=lambda    Var(X)=lambda"
   ]
  },
  {
   "cell_type": "markdown",
   "id": "043208d2-dada-4518-9472-772908e9ad14",
   "metadata": {},
   "source": [
    "### - 10 Bin kelimeden oluşan bir kitapta hatalı kelime sayısı\n",
    "### - 4000 öğrencili okulda not girişinde hata yapılması\n",
    "### - Bir iş gününde çağrı merkezine gelen taktir sayısı\n",
    "### - Kredi kartı işlemlerinde sahtekarlık olması\n",
    "### - Rötara düşen uçuş sefer sayısı"
   ]
  }
 ],
 "metadata": {
  "kernelspec": {
   "display_name": "Python 3 (ipykernel)",
   "language": "python",
   "name": "python3"
  },
  "language_info": {
   "codemirror_mode": {
    "name": "ipython",
    "version": 3
   },
   "file_extension": ".py",
   "mimetype": "text/x-python",
   "name": "python",
   "nbconvert_exporter": "python",
   "pygments_lexer": "ipython3",
   "version": "3.9.13"
  }
 },
 "nbformat": 4,
 "nbformat_minor": 5
}
