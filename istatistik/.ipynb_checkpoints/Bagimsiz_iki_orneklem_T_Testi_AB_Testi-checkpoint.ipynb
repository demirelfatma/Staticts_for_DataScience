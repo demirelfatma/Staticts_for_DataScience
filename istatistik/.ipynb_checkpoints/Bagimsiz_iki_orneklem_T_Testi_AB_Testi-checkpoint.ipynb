{
 "cells": [
  {
   "cell_type": "markdown",
   "id": "f23e492b-7c64-4895-871e-9f786e139e36",
   "metadata": {},
   "source": [
    "## **Bağımsız İki Örneklem T Testi(AB Testi)**"
   ]
  },
  {
   "cell_type": "markdown",
   "id": "1fcde581-f94a-434b-8b41-6021250ef315",
   "metadata": {},
   "source": [
    "#### İki grup ortalaması arasında karşılaştırma yapılmak istenildiğinde kullanılır."
   ]
  },
  {
   "cell_type": "markdown",
   "id": "7860ccec-b36f-485f-8532-ebd073108265",
   "metadata": {},
   "source": [
    "#### H0:mü1=mü2  H0:mü1<=mü2  H0:mü1>=mü2\n",
    "#### H1:mü1!=mü2  H1:mü1>mü2  H1:mü1<mü2"
   ]
  }
 ],
 "metadata": {
  "kernelspec": {
   "display_name": "Python 3 (ipykernel)",
   "language": "python",
   "name": "python3"
  },
  "language_info": {
   "codemirror_mode": {
    "name": "ipython",
    "version": 3
   },
   "file_extension": ".py",
   "mimetype": "text/x-python",
   "name": "python",
   "nbconvert_exporter": "python",
   "pygments_lexer": "ipython3",
   "version": "3.9.13"
  }
 },
 "nbformat": 4,
 "nbformat_minor": 5
}
