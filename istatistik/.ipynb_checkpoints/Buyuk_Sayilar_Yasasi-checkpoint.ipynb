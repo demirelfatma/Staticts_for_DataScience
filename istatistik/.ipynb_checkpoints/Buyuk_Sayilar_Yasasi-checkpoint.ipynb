{
 "cells": [
  {
   "cell_type": "markdown",
   "id": "9f600135-77af-45d7-a58e-e511516a07e9",
   "metadata": {},
   "source": [
    "# **Büyük Sayılar Yasası**\n",
    "### Bir rasssal değişkenin uzun vadeli kararlılığını tanımlayan olasılık teoremidir."
   ]
  },
  {
   "cell_type": "code",
   "execution_count": 2,
   "id": "a9ab6b02-68c3-48ff-a8d1-115e4120c641",
   "metadata": {},
   "outputs": [
    {
     "name": "stdout",
     "output_type": "stream",
     "text": [
      "Atış Sayısı:  2 --- Yazi Olasılığı: 0.50\n",
      "Atış Sayısı:  4 --- Yazi Olasılığı: 0.00\n",
      "Atış Sayısı:  8 --- Yazi Olasılığı: 0.62\n",
      "Atış Sayısı:  16 --- Yazi Olasılığı: 0.44\n",
      "Atış Sayısı:  32 --- Yazi Olasılığı: 0.47\n",
      "Atış Sayısı:  64 --- Yazi Olasılığı: 0.56\n",
      "Atış Sayısı:  128 --- Yazi Olasılığı: 0.51\n",
      "Atış Sayısı:  256 --- Yazi Olasılığı: 0.53\n",
      "Atış Sayısı:  512 --- Yazi Olasılığı: 0.53\n",
      "Atış Sayısı:  1024 --- Yazi Olasılığı: 0.50\n",
      "Atış Sayısı:  2048 --- Yazi Olasılığı: 0.49\n",
      "Atış Sayısı:  4096 --- Yazi Olasılığı: 0.49\n",
      "Atış Sayısı:  8192 --- Yazi Olasılığı: 0.50\n",
      "Atış Sayısı:  16384 --- Yazi Olasılığı: 0.50\n",
      "Atış Sayısı:  32768 --- Yazi Olasılığı: 0.50\n",
      "Atış Sayısı:  65536 --- Yazi Olasılığı: 0.50\n",
      "Atış Sayısı:  131072 --- Yazi Olasılığı: 0.50\n",
      "Atış Sayısı:  262144 --- Yazi Olasılığı: 0.50\n",
      "Atış Sayısı:  524288 --- Yazi Olasılığı: 0.50\n",
      "Atış Sayısı:  1048576 --- Yazi Olasılığı: 0.50\n"
     ]
    }
   ],
   "source": [
    "import numpy as np\n",
    "rng = np.random.RandomState(123)\n",
    "for i in np.arange(1,21):\n",
    "    deney_sayisi = 2**i\n",
    "    yazi_turalar = rng.randint(0,2,size=deney_sayisi)\n",
    "    yazi_olasiliklari = np.mean(yazi_turalar)\n",
    "    print(\"Atış Sayısı: \",deney_sayisi,\"---\",'Yazi Olasılığı: %.2f' %(yazi_olasiliklari))"
   ]
  },
  {
   "cell_type": "code",
   "execution_count": null,
   "id": "e39b18e5-3a75-4775-9efd-3528f47adc60",
   "metadata": {},
   "outputs": [
    {
     "data": {
      "text/plain": [
       "0.2"
      ]
     },
     "execution_count": 3,
     "metadata": {},
     "output_type": "execute_result"
    }
   ],
   "source": [
    "1/5"
   ]
  }
 ],
 "metadata": {
  "kernelspec": {
   "display_name": "Python 3 (ipykernel)",
   "language": "python",
   "name": "python3"
  },
  "language_info": {
   "codemirror_mode": {
    "name": "ipython",
    "version": 3
   },
   "file_extension": ".py",
   "mimetype": "text/x-python",
   "name": "python",
   "nbconvert_exporter": "python",
   "pygments_lexer": "ipython3",
   "version": "3.9.13"
  }
 },
 "nbformat": 4,
 "nbformat_minor": 5
}
