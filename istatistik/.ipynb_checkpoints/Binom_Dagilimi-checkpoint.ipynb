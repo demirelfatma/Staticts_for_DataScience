{
 "cells": [
  {
   "cell_type": "markdown",
   "id": "629a3fe8-261b-4707-9a8c-51401243b09d",
   "metadata": {},
   "source": [
    "# **Binom Dağılımı**"
   ]
  },
  {
   "cell_type": "markdown",
   "id": "b6486a7d-fd81-4dae-a7d5-c5a94048316b",
   "metadata": {},
   "source": [
    "### Binom dağılımı, bağımsız n deneme sonucu k başarılı olma olasılığı ile ilgilendiğinde kullanılan dağılımdır."
   ]
  },
  {
   "cell_type": "markdown",
   "id": "e73949e1-9131-473b-9b5a-b6266df60762",
   "metadata": {},
   "source": [
    "${\\displaystyle f(x;n,p)=C(n,x)p^{x}(1-p)^{n-x}\\quad { }x=0,1,2...,n}$\n",
    "\n",
    "${\\displaystyle \\operatorname {E} \\left(X\\right)=np}$\n",
    "\n",
    "$\\operatorname {Var} [X]=np(1-p)$"
   ]
  }
 ],
 "metadata": {
  "kernelspec": {
   "display_name": "Python 3 (ipykernel)",
   "language": "python",
   "name": "python3"
  },
  "language_info": {
   "codemirror_mode": {
    "name": "ipython",
    "version": 3
   },
   "file_extension": ".py",
   "mimetype": "text/x-python",
   "name": "python",
   "nbconvert_exporter": "python",
   "pygments_lexer": "ipython3",
   "version": "3.9.13"
  }
 },
 "nbformat": 4,
 "nbformat_minor": 5
}
