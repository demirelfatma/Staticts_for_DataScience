{
 "cells": [
  {
   "cell_type": "markdown",
   "id": "cf9a3659-489b-4b2b-b275-a425a3ed5554",
   "metadata": {},
   "source": [
    "# **İş Uygulaması: Ürün Satın Alma Adım Optimizasyonu**"
   ]
  },
  {
   "cell_type": "markdown",
   "id": "2ecfd2db-4eff-4a3d-8a49-da54246d5de7",
   "metadata": {},
   "source": [
    "#### Problem: Sepete ürün ekleme işlemi sonrasında ödeme ekranında 5 adım vardır ve bu adımların birisi sorgulanmaktadır.\n",
    "#### Detaylar: Her adımın 20'şer sn. olması hedefi var.4.adım sorgulanıyor. Bu durumu test etmek için 100 örnek alınıyor. Örnek standart sapması 5 saniyedir. Örnek ortalaması iste 19 saniyedir."
   ]
  }
 ],
 "metadata": {
  "kernelspec": {
   "display_name": "Python 3 (ipykernel)",
   "language": "python",
   "name": "python3"
  },
  "language_info": {
   "codemirror_mode": {
    "name": "ipython",
    "version": 3
   },
   "file_extension": ".py",
   "mimetype": "text/x-python",
   "name": "python",
   "nbconvert_exporter": "python",
   "pygments_lexer": "ipython3",
   "version": "3.9.13"
  }
 },
 "nbformat": 4,
 "nbformat_minor": 5
}
