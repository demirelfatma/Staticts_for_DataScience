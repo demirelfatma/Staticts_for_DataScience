{
 "cells": [
  {
   "cell_type": "markdown",
   "id": "5bfc273c-9ab5-49ef-91b5-7eb1527ca166",
   "metadata": {},
   "source": [
    "# **İş Uygulaması: Reklam Harcaması Optimizasyonu**"
   ]
  },
  {
   "cell_type": "markdown",
   "id": "b741af34-9344-460d-bf65-5f4d8f2de76c",
   "metadata": {},
   "source": [
    "#### Problem: Çeşitli mecralara reklam veriliyor, reklamların tıklanma ve geri dönüşüm oranları optimize edilmeye çalışılıyor. Buna yönelik olarak belirli bir mecrada çeşitli senaryolara göre reklama tıklama olasılıkları hesaplanmak isteniliyor.\n",
    "#### Detaylar: Bir mecrada reklam verilecek. Dağılım ve reklama tıklama olasılığı biliniyor(0.01).\n",
    "#### **Soru**: Reklamı 100 kişi gördüğünde 1,5,10 tıklanması olasılığı nedir?"
   ]
  },
  {
   "cell_type": "code",
   "execution_count": 2,
   "id": "f68e6064-3f19-424b-ac19-24df60ea5753",
   "metadata": {},
   "outputs": [],
   "source": [
    "from scipy.stats import binom"
   ]
  },
  {
   "cell_type": "code",
   "execution_count": 3,
   "id": "25925188-834b-4e9f-b369-bc672f3b06e8",
   "metadata": {},
   "outputs": [
    {
     "name": "stdout",
     "output_type": "stream",
     "text": [
      "0.36972963764972666\n",
      "0.002897787123761478\n",
      "7.006035693977194e-08\n"
     ]
    }
   ],
   "source": [
    "p = 0.01\n",
    "n = 100\n",
    "rv = binom(n,p)\n",
    "print(rv.pmf(1))\n",
    "print(rv.pmf(5))\n",
    "print(rv.pmf(10))"
   ]
  }
 ],
 "metadata": {
  "kernelspec": {
   "display_name": "Python 3 (ipykernel)",
   "language": "python",
   "name": "python3"
  },
  "language_info": {
   "codemirror_mode": {
    "name": "ipython",
    "version": 3
   },
   "file_extension": ".py",
   "mimetype": "text/x-python",
   "name": "python",
   "nbconvert_exporter": "python",
   "pygments_lexer": "ipython3",
   "version": "3.9.13"
  }
 },
 "nbformat": 4,
 "nbformat_minor": 5
}
