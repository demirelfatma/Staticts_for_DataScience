{
 "cells": [
  {
   "cell_type": "markdown",
   "id": "0159d77b-37e6-4fb0-a59e-2c8eb078af2e",
   "metadata": {},
   "source": [
    "# **p value**"
   ]
  },
  {
   "cell_type": "markdown",
   "id": "011d5083-d8a4-4430-b522-c9d86fa34269",
   "metadata": {},
   "source": [
    "#### Hipotez testlerinin sonuçlarını değerlendirmek üzere programlar tarafından p-value değeri verilir. Bu değer üzerinden kolayca yorum yapabiliriz."
   ]
  },
  {
   "cell_type": "markdown",
   "id": "3f6a304a-ee3b-43bc-82d3-0ca02cbbc1cc",
   "metadata": {},
   "source": [
    "### p<0.05 \n",
    "#### alfa = 0.05 -> kabul edilebilir hata miktarı"
   ]
  },
  {
   "cell_type": "markdown",
   "id": "aaae55c9-9aa3-4304-93ca-6689542774ab",
   "metadata": {},
   "source": [
    "#### **Hipotez Testi Adımları**"
   ]
  },
  {
   "cell_type": "markdown",
   "id": "e02da8a7-fe05-42a4-a2fd-851decbc0757",
   "metadata": {},
   "source": [
    "#### Adım 1: Hipotezlerin kurulması ve yönlerinin belirlenmesi\n",
    "#### Adım 2: Anlamlılık düzeyinin ve tablo değerinin belirlenmesi\n",
    "#### Adım 3: Test istatistiğinin belirlenmesi ve test istatistiğinin hesaplanması\n",
    "#### Adım 4: Hesaplanan test istatistiği ile alfa'ya karşılık gelen tablo değerlerinin karşılaştırılması. Test İstatistiği(Zh)>Tablo Değeri(Zt) ise H0 Red\n",
    "#### Yorum"
   ]
  },
  {
   "cell_type": "markdown",
   "id": "75e08792-712a-4bb7-bb65-f4343c227456",
   "metadata": {},
   "source": [
    "#### **Tek Örneklem T Testi**"
   ]
  },
  {
   "cell_type": "markdown",
   "id": "e8b584b8-a10b-4701-bb48-ccba1df896d5",
   "metadata": {},
   "source": [
    "#### Popülasyon ortalaması ile varsayımsal bir değer arasında istatistiksel olarak anlamlı bir farklılık olup olmadığınıtest etmek için kullanılan parametrik bir testtir."
   ]
  },
  {
   "cell_type": "markdown",
   "id": "d855d19a-a649-417a-bcd9-a80619ac0068",
   "metadata": {},
   "source": [
    "#### 1.Anakütle standart sapması biliniyorsa z istatistiği kullanılır.\n",
    "#### 2.Anakütle standart sapması bilinmiyorsa ve n>30 ise z istatistiği kullanılır.\n",
    "#### 3.Anakütle standart sapması bilinmiyor ve n<30 ise t istatistiği kullanılır."
   ]
  }
 ],
 "metadata": {
  "kernelspec": {
   "display_name": "Python 3 (ipykernel)",
   "language": "python",
   "name": "python3"
  },
  "language_info": {
   "codemirror_mode": {
    "name": "ipython",
    "version": 3
   },
   "file_extension": ".py",
   "mimetype": "text/x-python",
   "name": "python",
   "nbconvert_exporter": "python",
   "pygments_lexer": "ipython3",
   "version": "3.9.13"
  }
 },
 "nbformat": 4,
 "nbformat_minor": 5
}
