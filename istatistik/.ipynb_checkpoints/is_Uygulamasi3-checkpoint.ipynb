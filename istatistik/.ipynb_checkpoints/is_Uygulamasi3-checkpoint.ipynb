{
 "cells": [
  {
   "cell_type": "markdown",
   "id": "3b1e8e81-8322-4343-8a54-0640e5c47580",
   "metadata": {},
   "source": [
    "# **İş Uygulaması: İlan Girişi Hata Olasılıklarının Hesaplanması**"
   ]
  },
  {
   "cell_type": "markdown",
   "id": "dd6cb029-e9b4-4caa-b938-d697af91cb8f",
   "metadata": {},
   "source": [
    "#### Problem: Hatalı ilan girişi olasılıkları hesaplanmak isteniyor.\n",
    "#### Detaylar: Bir yıl süresince ölçümler yapılıyor. Dağılım biliniyor(Poisson) ve Lambda 0.1(ortalama hata sayısı). Hiç hata olmaması, 3 hata olması ve 5 hata olması olasılıkları nedir?"
   ]
  },
  {
   "cell_type": "code",
   "execution_count": 1,
   "id": "c3374ba8-3305-440b-92d5-eb040620f9c0",
   "metadata": {},
   "outputs": [],
   "source": [
    "from scipy.stats import poisson"
   ]
  },
  {
   "cell_type": "code",
   "execution_count": 2,
   "id": "723e551a-c804-4b8d-bfe2-87b01c593a65",
   "metadata": {},
   "outputs": [],
   "source": [
    "lambda_ = 0.1"
   ]
  },
  {
   "cell_type": "code",
   "execution_count": 3,
   "id": "ee8c7cde-b20e-4edc-8884-bc5b9ac63937",
   "metadata": {},
   "outputs": [
    {
     "name": "stdout",
     "output_type": "stream",
     "text": [
      "0.9048374180359595\n"
     ]
    }
   ],
   "source": [
    "rv = poisson(mu = lambda_)\n",
    "print(rv.pmf(k=0))"
   ]
  },
  {
   "cell_type": "code",
   "execution_count": 4,
   "id": "68eccaa1-ac60-477d-922a-4be9de8ec30d",
   "metadata": {},
   "outputs": [
    {
     "name": "stdout",
     "output_type": "stream",
     "text": [
      "0.00015080623633932676\n"
     ]
    }
   ],
   "source": [
    "print(rv.pmf(k=3))"
   ]
  },
  {
   "cell_type": "code",
   "execution_count": 5,
   "id": "f7d4615b-7bd4-4aed-a3a0-0260cc76babc",
   "metadata": {},
   "outputs": [
    {
     "name": "stdout",
     "output_type": "stream",
     "text": [
      "7.54031181696634e-08\n"
     ]
    }
   ],
   "source": [
    "print(rv.pmf(k=5))"
   ]
  }
 ],
 "metadata": {
  "kernelspec": {
   "display_name": "Python 3 (ipykernel)",
   "language": "python",
   "name": "python3"
  },
  "language_info": {
   "codemirror_mode": {
    "name": "ipython",
    "version": 3
   },
   "file_extension": ".py",
   "mimetype": "text/x-python",
   "name": "python",
   "nbconvert_exporter": "python",
   "pygments_lexer": "ipython3",
   "version": "3.9.13"
  }
 },
 "nbformat": 4,
 "nbformat_minor": 5
}
