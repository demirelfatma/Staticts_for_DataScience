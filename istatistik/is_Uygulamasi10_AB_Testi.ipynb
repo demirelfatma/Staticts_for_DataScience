{
 "cells": [
  {
   "cell_type": "markdown",
   "id": "5864e8ed-8ccd-45dc-a31a-cf7785baff71",
   "metadata": {},
   "source": [
    "## **İş Uygulaması: Kullanıcı Arayüzü Deneyi(AB Testi)**"
   ]
  },
  {
   "cell_type": "markdown",
   "id": "abf97133-f55d-436d-a350-f40ffd854943",
   "metadata": {},
   "source": [
    "#### problem: kırmızı buton mu yeşil buton mu?\n",
    "H0: P1<=P2\n",
    "\n",
    "H1: P1>P2"
   ]
  },
  {
   "cell_type": "markdown",
   "id": "2af269c6-3407-4a8d-a4d8-9f9a3f4ad96d",
   "metadata": {},
   "source": [
    "#### **İki Örneklem Oran Testi**"
   ]
  },
  {
   "cell_type": "code",
   "execution_count": 1,
   "id": "d5c4c64b-1540-45dc-94bf-6e8f7c0b6f90",
   "metadata": {},
   "outputs": [],
   "source": [
    "from statsmodels.stats.proportion import proportions_ztest"
   ]
  },
  {
   "cell_type": "code",
   "execution_count": 3,
   "id": "0cc7f17e-9ada-4ad5-8c6f-3528394acbed",
   "metadata": {},
   "outputs": [],
   "source": [
    "import numpy as np\n",
    "basari_sayisi = np.array([300,250])\n",
    "gozlem_sayisi = np.array([1000,1100])"
   ]
  },
  {
   "cell_type": "code",
   "execution_count": 4,
   "id": "437c17e2-3bc5-4f6b-8630-8b274eef2ead",
   "metadata": {},
   "outputs": [
    {
     "data": {
      "text/plain": [
       "(3.7857863233209255, 0.0001532232957772221)"
      ]
     },
     "execution_count": 4,
     "metadata": {},
     "output_type": "execute_result"
    }
   ],
   "source": [
    "proportions_ztest(count=basari_sayisi, nobs=gozlem_sayisi)"
   ]
  },
  {
   "cell_type": "markdown",
   "id": "fed4017e-ed78-4744-8566-abc58c65b2e4",
   "metadata": {},
   "source": [
    "### **Varyans Analizi**\n",
    "#### İki ya da daha fazla grup ortalaması arasında istatistiksel olarak anlamlı farklılık olup olmadığı öğrenilmek istenildiğinde kullanılır.\n",
    "\n",
    "### hipotezler\n",
    "h0: mü1=mü2=mü3\n",
    "\n",
    "h1: Eşit değillerdir(en az birisi farklıdır)\n",
    "\n",
    "### :test istatistiği F\n",
    "Fs=MS(between)/MS(within)\n",
    "\n",
    "### :varsayımlar\n",
    "gözlemlerin birbirinden bağımsız olması(grupların)\n",
    "\n",
    "normal dağılım\n",
    "\n",
    "varyans homojenliği"
   ]
  }
 ],
 "metadata": {
  "kernelspec": {
   "display_name": "Python 3 (ipykernel)",
   "language": "python",
   "name": "python3"
  },
  "language_info": {
   "codemirror_mode": {
    "name": "ipython",
    "version": 3
   },
   "file_extension": ".py",
   "mimetype": "text/x-python",
   "name": "python",
   "nbconvert_exporter": "python",
   "pygments_lexer": "ipython3",
   "version": "3.9.13"
  }
 },
 "nbformat": 4,
 "nbformat_minor": 5
}
