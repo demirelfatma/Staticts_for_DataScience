{
 "cells": [
  {
   "cell_type": "markdown",
   "id": "d06596f4-d4c5-4b04-842d-e9c004d9608d",
   "metadata": {},
   "source": [
    "## **İş Uygulaması: Şirket içi Eğitimin Performans Etkisi Ölçümü**"
   ]
  },
  {
   "cell_type": "markdown",
   "id": "3f02f47f-1ae3-4756-bf7f-0549f3c5ad20",
   "metadata": {},
   "source": [
    "#### Problem: Belirli uğraşlar sonucunda alınan bir eğitimin katma değer sağlanıp sağlanmadığı ölçülmek isteniyor.\n",
    "#### Detaylar: Bir departman bir konuda eğitim talep ediyor. Gerekli/gereksiz değerlendirmelerineticesinde eğitim alınıyor. Eğitimden önce ve sonra olacak şekilde gerekli ölçümler yapılıyor. Eğitim sonrasında eğitimin sağladığı katma değer test edilmek isteniyor."
   ]
  },
  {
   "cell_type": "markdown",
   "id": "81b6800a-8a05-4b4e-8494-89a2672b807e",
   "metadata": {},
   "source": [
    "H0: müö=müs\n",
    "\n",
    "H1: müö!=müs"
   ]
  },
  {
   "cell_type": "code",
   "execution_count": 2,
   "id": "b52bcee9-dc6b-4714-8f60-da243e29d37e",
   "metadata": {},
   "outputs": [],
   "source": [
    "import pandas as pd\n",
    "import numpy as np"
   ]
  },
  {
   "cell_type": "code",
   "execution_count": 3,
   "id": "201804b4-5d11-4ab9-8b94-c5a7a81bf6ee",
   "metadata": {},
   "outputs": [],
   "source": [
    "oncesi = pd.DataFrame([123,119,119,116,123,123,121,120,117,118,121,121,123,119,121,118,124,121,125,115,115,119,118,121,117,117,120,120,121,117,118,117,123,118,117,123,118,124,121,115,118,125,115])\n",
    "sonrasi = pd.DataFrame([118,127,122,132,129,123,129,132,128,130,128,138,128,138,140,130,134,134,124,140,134,129,129,138,134,124,122,126,133,127,130,130,130,132,117,130,125,129,133,120,127,123])"
   ]
  },
  {
   "cell_type": "code",
   "execution_count": 4,
   "id": "74df8e9b-fdc9-4265-9cd2-bf37068ec7ed",
   "metadata": {},
   "outputs": [
    {
     "data": {
      "text/html": [
       "<div>\n",
       "<style scoped>\n",
       "    .dataframe tbody tr th:only-of-type {\n",
       "        vertical-align: middle;\n",
       "    }\n",
       "\n",
       "    .dataframe tbody tr th {\n",
       "        vertical-align: top;\n",
       "    }\n",
       "\n",
       "    .dataframe thead th {\n",
       "        text-align: right;\n",
       "    }\n",
       "</style>\n",
       "<table border=\"1\" class=\"dataframe\">\n",
       "  <thead>\n",
       "    <tr style=\"text-align: right;\">\n",
       "      <th></th>\n",
       "      <th>0</th>\n",
       "    </tr>\n",
       "  </thead>\n",
       "  <tbody>\n",
       "    <tr>\n",
       "      <th>0</th>\n",
       "      <td>123</td>\n",
       "    </tr>\n",
       "    <tr>\n",
       "      <th>1</th>\n",
       "      <td>119</td>\n",
       "    </tr>\n",
       "    <tr>\n",
       "      <th>2</th>\n",
       "      <td>119</td>\n",
       "    </tr>\n",
       "    <tr>\n",
       "      <th>3</th>\n",
       "      <td>116</td>\n",
       "    </tr>\n",
       "    <tr>\n",
       "      <th>4</th>\n",
       "      <td>123</td>\n",
       "    </tr>\n",
       "  </tbody>\n",
       "</table>\n",
       "</div>"
      ],
      "text/plain": [
       "     0\n",
       "0  123\n",
       "1  119\n",
       "2  119\n",
       "3  116\n",
       "4  123"
      ]
     },
     "execution_count": 4,
     "metadata": {},
     "output_type": "execute_result"
    }
   ],
   "source": [
    "oncesi[0:5]"
   ]
  },
  {
   "cell_type": "code",
   "execution_count": 5,
   "id": "fe71d3eb-3f2c-4c54-8c7f-39623500ebeb",
   "metadata": {},
   "outputs": [
    {
     "data": {
      "text/html": [
       "<div>\n",
       "<style scoped>\n",
       "    .dataframe tbody tr th:only-of-type {\n",
       "        vertical-align: middle;\n",
       "    }\n",
       "\n",
       "    .dataframe tbody tr th {\n",
       "        vertical-align: top;\n",
       "    }\n",
       "\n",
       "    .dataframe thead th {\n",
       "        text-align: right;\n",
       "    }\n",
       "</style>\n",
       "<table border=\"1\" class=\"dataframe\">\n",
       "  <thead>\n",
       "    <tr style=\"text-align: right;\">\n",
       "      <th></th>\n",
       "      <th>0</th>\n",
       "    </tr>\n",
       "  </thead>\n",
       "  <tbody>\n",
       "    <tr>\n",
       "      <th>0</th>\n",
       "      <td>118</td>\n",
       "    </tr>\n",
       "    <tr>\n",
       "      <th>1</th>\n",
       "      <td>127</td>\n",
       "    </tr>\n",
       "    <tr>\n",
       "      <th>2</th>\n",
       "      <td>122</td>\n",
       "    </tr>\n",
       "    <tr>\n",
       "      <th>3</th>\n",
       "      <td>132</td>\n",
       "    </tr>\n",
       "    <tr>\n",
       "      <th>4</th>\n",
       "      <td>129</td>\n",
       "    </tr>\n",
       "  </tbody>\n",
       "</table>\n",
       "</div>"
      ],
      "text/plain": [
       "     0\n",
       "0  118\n",
       "1  127\n",
       "2  122\n",
       "3  132\n",
       "4  129"
      ]
     },
     "execution_count": 5,
     "metadata": {},
     "output_type": "execute_result"
    }
   ],
   "source": [
    "sonrasi[0:5]"
   ]
  },
  {
   "cell_type": "code",
   "execution_count": 6,
   "id": "b0fd3084-2b67-4abe-a2f6-d93b4dd528b0",
   "metadata": {},
   "outputs": [
    {
     "name": "stdout",
     "output_type": "stream",
     "text": [
      "'AYRIK' Veri Seti: \n",
      "\n",
      "    ONCESI  SONRASI\n",
      "0     123    118.0\n",
      "1     119    127.0\n",
      "2     119    122.0\n",
      "3     116    132.0\n",
      "4     123    129.0 \n",
      "\n",
      "\n",
      "'BIRLIKTE' Veri Seti: \n",
      "\n",
      "    PERFORMANS ONCESI_SONRASI\n",
      "0         123         ONCESI\n",
      "1         119         ONCESI\n",
      "2         119         ONCESI\n",
      "3         116         ONCESI\n",
      "4         123         ONCESI \n",
      "\n"
     ]
    }
   ],
   "source": [
    "#BİRİNCİ VERİ SETİ\n",
    "AYRIK = pd.concat([oncesi,sonrasi],axis=1)\n",
    "AYRIK.columns=[\"ONCESI\",\"SONRASI\"]\n",
    "print(\"'AYRIK' Veri Seti: \\n\\n\", AYRIK.head(),\"\\n\\n\")\n",
    "\n",
    "#İKİNCİ VERİ SETİ\n",
    "#ONCESİ FLAG/TAG'INI OLUSTURMA\n",
    "GRUP_ONCESI = np.arange(len(oncesi))\n",
    "GRUP_ONCESI = pd.DataFrame(GRUP_ONCESI)\n",
    "GRUP_ONCESI[:] = \"ONCESI\"\n",
    "#FLAG VE ONCESİ DEĞERLERİNİ BİR ARAYA GETİRME\n",
    "A = pd.concat([oncesi,GRUP_ONCESI],axis=1)\n",
    "#SONRASI FLAG/TAG'INI OLUŞTURMA\n",
    "GRUP_SONRASI = np.arange(len(sonrasi))\n",
    "GRUP_SONRASI = pd.DataFrame(GRUP_SONRASI)\n",
    "GRUP_SONRASI[:] = \"SONRASI\"\n",
    "\n",
    "#FLAG VE SONRASI DEĞERLERİNİ BİR ARAYA GETİRME\n",
    "B = pd.concat([sonrasi, GRUP_SONRASI],axis=1)\n",
    "\n",
    "#TUM VERİYİ BİR ARAYA GETİRME\n",
    "BIRLIKTE = pd.concat([A,B])\n",
    "BIRLIKTE\n",
    "\n",
    "#ISIMLENDIRME\n",
    "BIRLIKTE.columns = [\"PERFORMANS\",\"ONCESI_SONRASI\"]\n",
    "print(\"'BIRLIKTE' Veri Seti: \\n\\n\", BIRLIKTE.head(), \"\\n\")"
   ]
  },
  {
   "cell_type": "code",
   "execution_count": 8,
   "id": "3b4e9136-bd72-435e-a6fa-26d7193b6a8e",
   "metadata": {},
   "outputs": [
    {
     "data": {
      "image/png": "[encoded data removed]",
      "text/plain": [
       "<Figure size 640x480 with 1 Axes>"
      ]
     },
     "metadata": {},
     "output_type": "display_data"
    }
   ],
   "source": [
    "import seaborn as sns\n",
    "sns.boxplot(x=\"ONCESI_SONRASI\",y=\"PERFORMANS\",data=BIRLIKTE);\n",
    "import matplotlib.pyplot as plt\n",
    "plt.show()"
   ]
  },
  {
   "cell_type": "markdown",
   "id": "d0ecc574-f4fc-410f-9b71-e298470293c2",
   "metadata": {},
   "source": [
    "### **Varsayım Kontrolleri**"
   ]
  },
  {
   "cell_type": "code",
   "execution_count": 9,
   "id": "3ea713d6-a2d3-4922-8de7-21b5087b7fa9",
   "metadata": {},
   "outputs": [],
   "source": [
    "from scipy.stats import shapiro"
   ]
  },
  {
   "cell_type": "code",
   "execution_count": 10,
   "id": "c147ac1e-45e5-4435-bea6-6b0a0d2efa19",
   "metadata": {},
   "outputs": [
    {
     "data": {
      "text/plain": [
       "ShapiroResult(statistic=0.9510661363601685, pvalue=0.06520283222198486)"
      ]
     },
     "execution_count": 10,
     "metadata": {},
     "output_type": "execute_result"
    }
   ],
   "source": [
    "shapiro(AYRIK.ONCESI)"
   ]
  },
  {
   "cell_type": "code",
   "execution_count": 11,
   "id": "03dad10e-f925-4edd-a0c1-e2a0544f7153",
   "metadata": {},
   "outputs": [
    {
     "data": {
      "text/plain": [
       "ShapiroResult(statistic=nan, pvalue=1.0)"
      ]
     },
     "execution_count": 11,
     "metadata": {},
     "output_type": "execute_result"
    }
   ],
   "source": [
    "shapiro(AYRIK.SONRASI)"
   ]
  },
  {
   "cell_type": "code",
   "execution_count": 12,
   "id": "fd9c9b12-2b9a-44bf-8aab-cbd14506c501",
   "metadata": {},
   "outputs": [
    {
     "data": {
      "text/plain": [
       "LeveneResult(statistic=nan, pvalue=nan)"
      ]
     },
     "execution_count": 12,
     "metadata": {},
     "output_type": "execute_result"
    }
   ],
   "source": [
    "import scipy.stats as stats\n",
    "stats.levene(AYRIK.ONCESI, AYRIK.SONRASI)"
   ]
  },
  {
   "cell_type": "markdown",
   "id": "32020a5e-8f5e-452b-9945-a8ed6bc8679d",
   "metadata": {},
   "source": [
    "### **Hipotez Testi**"
   ]
  },
  {
   "cell_type": "code",
   "execution_count": 13,
   "id": "8ce4954e-076c-4ce9-93d3-62df4a44b2fd",
   "metadata": {},
   "outputs": [
    {
     "data": {
      "text/plain": [
       "Ttest_relResult(statistic=nan, pvalue=nan)"
      ]
     },
     "execution_count": 13,
     "metadata": {},
     "output_type": "execute_result"
    }
   ],
   "source": [
    "stats.ttest_rel(AYRIK.ONCESI,AYRIK.SONRASI)"
   ]
  },
  {
   "cell_type": "code",
   "execution_count": 18,
   "id": "888f3124-ceff-40d6-8bf9-5d63d8a0d35a",
   "metadata": {},
   "outputs": [
    {
     "name": "stdout",
     "output_type": "stream",
     "text": [
      "Test İstatistiği = nan, p-değeri=nan\n"
     ]
    }
   ],
   "source": [
    "test_istatistigi, pvalue = stats.ttest_rel(AYRIK[\"ONCESI\"],AYRIK[\"SONRASI\"])\n",
    "print('Test İstatistiği = %.5f, p-değeri=%.5f' % (test_istatistigi, pvalue))"
   ]
  },
  {
   "cell_type": "markdown",
   "id": "00982511-07da-4b86-8880-c5b550173970",
   "metadata": {},
   "source": [
    "### **Nonparametrik İki Örneklem T Testi**"
   ]
  },
  {
   "cell_type": "code",
   "execution_count": 19,
   "id": "574271fa-8592-45b8-98e6-28d5299100ab",
   "metadata": {},
   "outputs": [
    {
     "data": {
      "text/plain": [
       "WilcoxonResult(statistic=nan, pvalue=nan)"
      ]
     },
     "execution_count": 19,
     "metadata": {},
     "output_type": "execute_result"
    }
   ],
   "source": [
    "stats.wilcoxon(AYRIK.ONCESI, AYRIK.SONRASI)"
   ]
  },
  {
   "cell_type": "code",
   "execution_count": 20,
   "id": "cb93d8cf-2a1d-4c8a-bb8d-8ecbc3030c8b",
   "metadata": {},
   "outputs": [
    {
     "name": "stdout",
     "output_type": "stream",
     "text": [
      "Test İstatistiği = nan, p-değeri = nan\n"
     ]
    }
   ],
   "source": [
    "test_istatistigi,pvalue=stats.wilcoxon(AYRIK[\"ONCESI\"],AYRIK[\"SONRASI\"])\n",
    "\n",
    "print('Test İstatistiği = %.4f, p-değeri = %.4f' % (test_istatistigi,pvalue))"
   ]
  },
  {
   "cell_type": "markdown",
   "id": "d72c04b6-c592-410f-bcad-e76659d6b1e5",
   "metadata": {},
   "source": [
    "### **İki Örneklem Oran Testi**"
   ]
  },
  {
   "cell_type": "markdown",
   "id": "bb59fab8-80a2-4852-befa-410f79292a64",
   "metadata": {},
   "source": [
    "#### iki oran arasında karşılaştırma yapmak için kullanılır"
   ]
  },
  {
   "cell_type": "markdown",
   "id": "4acb647a-39b5-44fb-9a66-2d95a6b01163",
   "metadata": {},
   "source": [
    "H0:  P1=P2    H0:  P1<=P2    H0:  P1>=P2\n",
    "\n",
    "H1:  P1!=P2    H1:  P1>P2    H1:  P1<P2\n",
    "                                        \n",
    "varsayımlar\n",
    "                                        \n",
    "n1>30\n",
    "\n",
    "n2>30"
   ]
  }
 ],
 "metadata": {
  "kernelspec": {
   "display_name": "Python 3 (ipykernel)",
   "language": "python",
   "name": "python3"
  },
  "language_info": {
   "codemirror_mode": {
    "name": "ipython",
    "version": 3
   },
   "file_extension": ".py",
   "mimetype": "text/x-python",
   "name": "python",
   "nbconvert_exporter": "python",
   "pygments_lexer": "ipython3",
   "version": "3.9.13"
  }
 },
 "nbformat": 4,
 "nbformat_minor": 5
}
