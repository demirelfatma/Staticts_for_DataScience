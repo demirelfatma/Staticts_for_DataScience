{
 "cells": [
  {
   "cell_type": "markdown",
   "id": "4a39fe94-8309-4eaa-954f-3f075fde3cc0",
   "metadata": {},
   "source": [
    "# **Normal Dağılım**"
   ]
  },
  {
   "cell_type": "markdown",
   "id": "651ba82a-2fbf-4753-9733-b667a68250b3",
   "metadata": {},
   "source": [
    "### Normal dağıldığı bilinen sürekli değişkenler için olasılık hesaplaması için kullanılır."
   ]
  },
  {
   "cell_type": "markdown",
   "id": "c58d4802-e4ca-4768-a00c-d14bd53d29c7",
   "metadata": {},
   "source": [
    "#### (1/(kök(2.pi.(lambda^2)))).e^(-(x-mü)^2)/2.(lambda^2)\n",
    "#### mü ortalama ya da dağılımın beklenen değeri\n",
    "#### lambda standart sapma\n",
    "#### lambda^2 varyans"
   ]
  }
 ],
 "metadata": {
  "kernelspec": {
   "display_name": "Python 3 (ipykernel)",
   "language": "python",
   "name": "python3"
  },
  "language_info": {
   "codemirror_mode": {
    "name": "ipython",
    "version": 3
   },
   "file_extension": ".py",
   "mimetype": "text/x-python",
   "name": "python",
   "nbconvert_exporter": "python",
   "pygments_lexer": "ipython3",
   "version": "3.9.13"
  }
 },
 "nbformat": 4,
 "nbformat_minor": 5
}
