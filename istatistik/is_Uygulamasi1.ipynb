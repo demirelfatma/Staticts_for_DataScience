{
 "cells": [
  {
   "cell_type": "markdown",
   "id": "eaf2383b-d946-4833-8bdf-50a4ced0ea1e",
   "metadata": {},
   "source": [
    "# **İş Uygulaması: Fiyat Stratejisi Karar Destek**"
   ]
  },
  {
   "cell_type": "code",
   "execution_count": 8,
   "id": "6c88903c-3018-4158-b992-211c5085796f",
   "metadata": {},
   "outputs": [],
   "source": [
    "import numpy as np\n",
    "fiyatlar = np.random.randint(10,110,1000)"
   ]
  },
  {
   "cell_type": "code",
   "execution_count": 9,
   "id": "652cae94-82ad-48f8-a665-0ee1f5146cd9",
   "metadata": {},
   "outputs": [
    {
     "data": {
      "text/plain": [
       "61.02"
      ]
     },
     "execution_count": 9,
     "metadata": {},
     "output_type": "execute_result"
    }
   ],
   "source": [
    "fiyatlar.mean()"
   ]
  },
  {
   "cell_type": "markdown",
   "id": "f6cf61e7-07ce-4ce1-a3b8-2cda070f904a",
   "metadata": {},
   "source": [
    "## import statsmodels.stats.api as sms"
   ]
  },
  {
   "cell_type": "code",
   "execution_count": 4,
   "id": "5cce4ff0-2ea6-4c5e-8639-4aea8d9716b4",
   "metadata": {},
   "outputs": [
    {
     "data": {
      "text/plain": [
       "(57.31020693591769, 60.855793064082306)"
      ]
     },
     "execution_count": 4,
     "metadata": {},
     "output_type": "execute_result"
    }
   ],
   "source": [
    "sms.DescrStatsW(fiyatlar).tconfint_mean()"
   ]
  }
 ],
 "metadata": {
  "kernelspec": {
   "display_name": "Python 3 (ipykernel)",
   "language": "python",
   "name": "python3"
  },
  "language_info": {
   "codemirror_mode": {
    "name": "ipython",
    "version": 3
   },
   "file_extension": ".py",
   "mimetype": "text/x-python",
   "name": "python",
   "nbconvert_exporter": "python",
   "pygments_lexer": "ipython3",
   "version": "3.9.13"
  }
 },
 "nbformat": 4,
 "nbformat_minor": 5
}
