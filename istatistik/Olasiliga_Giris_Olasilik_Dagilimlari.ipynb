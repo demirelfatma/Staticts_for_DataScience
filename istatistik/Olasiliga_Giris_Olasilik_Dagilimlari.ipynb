{
 "cells": [
  {
   "cell_type": "markdown",
   "id": "d464d0ba-7ad9-4082-bdb9-af7ce933ed21",
   "metadata": {},
   "source": [
    "# **Olasılığa Giriş ve Olasılık Dağılımları**"
   ]
  },
  {
   "cell_type": "markdown",
   "id": "a33ad26c-535b-429e-bbad-fcd529278e42",
   "metadata": {},
   "source": [
    "### Olasılık olayların olabilirliğinin sayısal ifadesidir\n",
    "### Değerlerini bir deneyin sonuçlarından alan değişkene rassal değişken denir.\n",
    "### Dağılım nedir? meydana gelen olay ve durumların sayısal karşılıklarının ortaya çıkardığı yapıya denir. \n",
    "### Olasılık dağılımı nedir? bir rassal olaya ait değerler ve bu değerlerin gerçekleşme olasılıklarının biarada ifade edilmesine denir.\n",
    "### Olasılık fonksiyonu nedir? bir değişkenin herhangi bir değeri alma olasılığıdır."
   ]
  },
  {
   "cell_type": "markdown",
   "id": "3329563d-8aa9-48f1-a226-0a50fe56bab1",
   "metadata": {},
   "source": [
    "### Kesikli olasılık dağılımları: Bernoulli, Binom, Poisson\n",
    "### Sürekli Olasılık Dağılımları: Normal Dağılım, Üniform Dağılım,Üstel Dağılım"
   ]
  },
  {
   "cell_type": "markdown",
   "id": "3369c4a1-ee77-42d7-8728-b262b4928d8e",
   "metadata": {
    "tags": []
   },
   "source": [
    "## **Veri bilimcinin amacı belirsizlik içinde karar vermektir.**"
   ]
  },
  {
   "cell_type": "markdown",
   "id": "4d5534a2-be56-4f86-bb40-352fa5f2859c",
   "metadata": {},
   "source": [
    "### Bernoulli Dağılımı: Başarılı-başarısız, olumlu-olumsuz şeklinde iki sonuçlu olaylar ile ilgilenildiğinde kullanılan kesikli olasılık dağılımıdır.p üssü x çarpı 1-p üssü 1-x"
   ]
  },
  {
   "cell_type": "markdown",
   "id": "cffd6ed4-62a8-492c-b8bd-be67904a4da9",
   "metadata": {
    "tags": []
   },
   "source": [
    "### **Bernoulli Dağılımı**\n",
    "${\\displaystyle f(k;p)=p^{k}(1-p)^{1-k}\\quad {\\text{for }}k\\in \\{0,1\\}}$\n",
    "\n",
    "${\\displaystyle \\operatorname {E} \\left(X\\right)=p}$\n",
    "\n",
    "$\\operatorname {Var} [X]=pq=p(1-p)$"
   ]
  },
  {
   "cell_type": "code",
   "execution_count": 1,
   "id": "21645cdf-4b9a-4ec5-b2fd-6872106126bd",
   "metadata": {
    "tags": []
   },
   "outputs": [],
   "source": [
    "from scipy.stats import bernoulli"
   ]
  },
  {
   "cell_type": "code",
   "execution_count": 2,
   "id": "c3d1290a-dee6-44b7-844a-03c54bb0ba7d",
   "metadata": {},
   "outputs": [],
   "source": [
    "p = 0.6"
   ]
  },
  {
   "cell_type": "code",
   "execution_count": 3,
   "id": "893c499b-af75-4051-a445-74e84bc0f082",
   "metadata": {},
   "outputs": [],
   "source": [
    "rv = bernoulli(p)"
   ]
  },
  {
   "cell_type": "code",
   "execution_count": 4,
   "id": "7d9f889b-d06e-4fc0-96a3-438b767afded",
   "metadata": {},
   "outputs": [
    {
     "data": {
      "text/plain": [
       "0.4"
      ]
     },
     "execution_count": 4,
     "metadata": {},
     "output_type": "execute_result"
    }
   ],
   "source": [
    "rv.pmf(k=0)"
   ]
  }
 ],
 "metadata": {
  "kernelspec": {
   "display_name": "Python 3 (ipykernel)",
   "language": "python",
   "name": "python3"
  },
  "language_info": {
   "codemirror_mode": {
    "name": "ipython",
    "version": 3
   },
   "file_extension": ".py",
   "mimetype": "text/x-python",
   "name": "python",
   "nbconvert_exporter": "python",
   "pygments_lexer": "ipython3",
   "version": "3.9.13"
  }
 },
 "nbformat": 4,
 "nbformat_minor": 5
}
