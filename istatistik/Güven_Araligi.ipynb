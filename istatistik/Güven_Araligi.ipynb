{
 "cells": [
  {
   "cell_type": "markdown",
   "id": "9f1ff58b-f7ab-4938-990f-05f197a5027d",
   "metadata": {},
   "source": [
    "# **Güven Aralığı Nedir?**"
   ]
  },
  {
   "cell_type": "markdown",
   "id": "6a14e696-1fa8-4e5a-ace9-265dd14e0550",
   "metadata": {},
   "source": [
    "### Anakütle parametresinin tahmini değerini kapsayabilecek iki sayıdan oluşan bir aralık bulunmasıdır."
   ]
  },
  {
   "cell_type": "markdown",
   "id": "0915a382-c339-4716-b6c2-f398b8e9fda1",
   "metadata": {},
   "source": [
    "### **Güven aralığı nasıl hesaplanır?**"
   ]
  },
  {
   "cell_type": "markdown",
   "id": "c072fe3d-fb50-46d8-8b1f-04e168c72068",
   "metadata": {},
   "source": [
    "### Adım 1: n,ortalama ve standart sapmayı bul\n",
    "### n = 100, ortalama = 180, standart sapma = 40\n",
    "### Adım 2: Güven aralığına karar ver: 95 mi 99 mu?\n",
    "### Z tablo  değerini hesapla(1,96-2,57)\n",
    "### Adım 3: Yukarıdaki değerleri kullanarak güven aralığını hesapla:\n",
    "### ortalama+tablo değeri*standart sapma / kök n"
   ]
  }
 ],
 "metadata": {
  "kernelspec": {
   "display_name": "Python 3 (ipykernel)",
   "language": "python",
   "name": "python3"
  },
  "language_info": {
   "codemirror_mode": {
    "name": "ipython",
    "version": 3
   },
   "file_extension": ".py",
   "mimetype": "text/x-python",
   "name": "python",
   "nbconvert_exporter": "python",
   "pygments_lexer": "ipython3",
   "version": "3.9.13"
  }
 },
 "nbformat": 4,
 "nbformat_minor": 5
}
