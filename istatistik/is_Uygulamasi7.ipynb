{
 "cells": [
  {
   "cell_type": "markdown",
   "id": "fe3c519a-d613-4ee0-a2a0-0743c3da8038",
   "metadata": {},
   "source": [
    "# **İş Uygulaması: Dönüşüm Oranı Testi**"
   ]
  },
  {
   "cell_type": "markdown",
   "id": "610cec05-56d0-4690-bf39-e6391cba9e3e",
   "metadata": {},
   "source": [
    "#### Problem: Bir yazılım ile bir mecrada reklam verilmiş ve bu reklama ilişkin yazılım tarafından 0.125 dönüşüm oranı elde edildiği ifade edilmiş. Fakat bu duru kontrol edilmek isteniyor. Çünkü bu yüksek bir oran ve gelirler incelendiğinde örtüşmüyor.\n",
    "#### Detaylar: 500 kişi dış mecrada reklamlara tıklamış, 40 tanesi sitemize gelip alışveriş yapmış. Örnek üzerindem elde edilen dönüşüm oranı: 40/500=0,08"
   ]
  },
  {
   "cell_type": "markdown",
   "id": "ff678db4-68d1-409f-847d-3ee3145b75ed",
   "metadata": {},
   "source": [
    "### **Tek Örneklem Oran Testi**"
   ]
  },
  {
   "cell_type": "markdown",
   "id": "dcf60463-04de-4028-93a7-aadd6b63cf74",
   "metadata": {},
   "source": [
    "H0: p = 0.125\n",
    "\n",
    "H1: p != 0.125"
   ]
  },
  {
   "cell_type": "code",
   "execution_count": 3,
   "id": "1e540183-2f70-4364-a4b1-f16c23e01227",
   "metadata": {},
   "outputs": [],
   "source": [
    "from statsmodels.stats.proportion import proportions_ztest"
   ]
  },
  {
   "cell_type": "code",
   "execution_count": 4,
   "id": "86056c52-9ed8-4226-a847-c16cf3c66a07",
   "metadata": {},
   "outputs": [],
   "source": [
    "count = 40\n",
    "nobs = 500\n",
    "value = 0.125"
   ]
  },
  {
   "cell_type": "code",
   "execution_count": 6,
   "id": "a5f875b2-f56e-449c-8cd2-4e23ffead2e2",
   "metadata": {},
   "outputs": [
    {
     "data": {
      "text/plain": [
       "(-3.7090151628513017, 0.0002080669689845979)"
      ]
     },
     "execution_count": 6,
     "metadata": {},
     "output_type": "execute_result"
    }
   ],
   "source": [
    "proportions_ztest(count,nobs,value)"
   ]
  }
 ],
 "metadata": {
  "kernelspec": {
   "display_name": "Python 3 (ipykernel)",
   "language": "python",
   "name": "python3"
  },
  "language_info": {
   "codemirror_mode": {
    "name": "ipython",
    "version": 3
   },
   "file_extension": ".py",
   "mimetype": "text/x-python",
   "name": "python",
   "nbconvert_exporter": "python",
   "pygments_lexer": "ipython3",
   "version": "3.9.13"
  }
 },
 "nbformat": 4,
 "nbformat_minor": 5
}
